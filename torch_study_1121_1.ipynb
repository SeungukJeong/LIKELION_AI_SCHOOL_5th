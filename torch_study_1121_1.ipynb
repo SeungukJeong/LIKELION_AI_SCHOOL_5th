{
 "cells": [
  {
   "cell_type": "code",
   "execution_count": 1,
   "id": "ff478138",
   "metadata": {},
   "outputs": [],
   "source": [
    "#-*- coding: cp949 -*-\n",
    "#-*- coding: utf-8 -*- \n",
    "import math\n",
    "import matplotlib.pyplot as plt\n",
    "import numpy as np\n",
    "import pandas as pd\n",
    "import seaborn as sns\n",
    "\n",
    "\n",
    "import torch\n",
    "from torch import nn, optim\n",
    "\n",
    "from sklearn.datasets import load_iris\n",
    "from sklearn.preprocessing import StandardScaler\n",
    "from sklearn.model_selection import train_test_split \n",
    "\n",
    "iris= load_iris()\n",
    "data = pd.DataFrame(data= np.c_[iris['data'], iris['target']],\n",
    "                     columns= iris['feature_names'] + ['target'])"
   ]
  },
  {
   "cell_type": "code",
   "execution_count": 2,
   "id": "048c05e8",
   "metadata": {},
   "outputs": [
    {
     "name": "stdout",
     "output_type": "stream",
     "text": [
      "     sepal length (cm)  sepal width (cm)  petal length (cm)  petal width (cm)  \\\n",
      "0                  5.1               3.5                1.4               0.2   \n",
      "1                  4.9               3.0                1.4               0.2   \n",
      "2                  4.7               3.2                1.3               0.2   \n",
      "3                  4.6               3.1                1.5               0.2   \n",
      "4                  5.0               3.6                1.4               0.2   \n",
      "..                 ...               ...                ...               ...   \n",
      "145                6.7               3.0                5.2               2.3   \n",
      "146                6.3               2.5                5.0               1.9   \n",
      "147                6.5               3.0                5.2               2.0   \n",
      "148                6.2               3.4                5.4               2.3   \n",
      "149                5.9               3.0                5.1               1.8   \n",
      "\n",
      "     target  \n",
      "0       0.0  \n",
      "1       0.0  \n",
      "2       0.0  \n",
      "3       0.0  \n",
      "4       0.0  \n",
      "..      ...  \n",
      "145     2.0  \n",
      "146     2.0  \n",
      "147     2.0  \n",
      "148     2.0  \n",
      "149     2.0  \n",
      "\n",
      "[150 rows x 5 columns]\n"
     ]
    }
   ],
   "source": [
    "print(data)"
   ]
  },
  {
   "cell_type": "markdown",
   "id": "b276f42b",
   "metadata": {},
   "source": [
    "https://towardsdatascience.com/pytorch-tabular-multiclass-classification-9f8211a123ab"
   ]
  },
  {
   "cell_type": "code",
   "execution_count": 3,
   "id": "d4fb1ae5",
   "metadata": {},
   "outputs": [
    {
     "data": {
      "text/plain": [
       "[5.1, 3.5, 1.4, 0.2]"
      ]
     },
     "execution_count": 3,
     "metadata": {},
     "output_type": "execute_result"
    }
   ],
   "source": [
    "data_set = data.iloc[:,[0,1,2,3]].values.tolist()\n",
    "data_set[0]"
   ]
  },
  {
   "cell_type": "code",
   "execution_count": 4,
   "id": "91833b8a",
   "metadata": {},
   "outputs": [],
   "source": [
    "class CustomDataset(torch.utils.data.Dataset): \n",
    "    def __init__(self, df):\n",
    "    #데이터셋의 전처리를 해주는 부분\n",
    "    \n",
    "    #sepal length, sepal width, petal length, petal width\n",
    "        self.x_data = df.iloc[:,[0,1,2,3]].values.tolist()\n",
    "        self.y_data = df.iloc[:, [4]].values.tolist()\n",
    "\n",
    "    def __len__(self):\n",
    "    #데이터셋의 길이. 즉, 총 샘플의 수를 적어주는 부분\n",
    "        return len(self.x_data)\n",
    "\n",
    "    def __getitem__(self, idx): \n",
    "    #데이터셋에서 특정 1개의 샘플을 가져오는 함수\n",
    "        x = torch.tensor(self.x_data[idx], dtype = torch.float32)\n",
    "        y = torch.tensor(self.y_data[idx], dtype = torch.float32)\n",
    "        return x,y\n",
    "        "
   ]
  },
  {
   "cell_type": "code",
   "execution_count": 5,
   "id": "df67c10f",
   "metadata": {},
   "outputs": [
    {
     "name": "stdout",
     "output_type": "stream",
     "text": [
      "tensor([[6.7000, 3.0000, 5.2000, 2.3000],\n",
      "        [6.4000, 3.2000, 4.5000, 1.5000],\n",
      "        [5.8000, 2.7000, 4.1000, 1.0000],\n",
      "        [4.6000, 3.6000, 1.0000, 0.2000]])\n",
      "tensor([[2.],\n",
      "        [1.],\n",
      "        [1.],\n",
      "        [0.]])\n"
     ]
    }
   ],
   "source": [
    "#데이터로더 확인\n",
    "import torch\n",
    "import torchvision.transforms as transforms\n",
    "\n",
    "dataset = CustomDataset(data)\n",
    "\n",
    "#batch_size 만큼 묶어서 데이터 (batch_size가 커지면 속도가 빨리짐, gpu 사용 증가)\n",
    "dataLoader = torch.utils.data.DataLoader(dataset, batch_size=4, shuffle=True)\n",
    "\n",
    "dataiter = iter(dataLoader)\n",
    "feature, target = dataiter.next()\n",
    "\n",
    "print(feature)\n",
    "print(target)\n",
    "\n"
   ]
  },
  {
   "cell_type": "code",
   "execution_count": 6,
   "id": "9e2dc02d",
   "metadata": {},
   "outputs": [
    {
     "name": "stdout",
     "output_type": "stream",
     "text": [
      "27\n",
      "12\n"
     ]
    }
   ],
   "source": [
    "#test, train 비율\n",
    "split_ratio = 0.7\n",
    "split_index = int(len(data) * split_ratio)\n",
    "\n",
    "#train, test셋 분류\n",
    "#데이터가 불균형하게 분포되어 있을 경우 사용 x\n",
    "train_dataset = CustomDataset(data[:split_index])\n",
    "test_dataset = CustomDataset(data[split_index:len(data)])\n",
    "\n",
    "#데이터 로더\n",
    "train_dataLoader = torch.utils.data.DataLoader(train_dataset, batch_size=4, shuffle=True)\n",
    "test_dataLoader = torch.utils.data.DataLoader(test_dataset, batch_size=4, shuffle=False)\n",
    "\n",
    "print(len(train_dataLoader))\n",
    "print(len(test_dataLoader))"
   ]
  },
  {
   "cell_type": "code",
   "execution_count": 7,
   "id": "4df2851f",
   "metadata": {},
   "outputs": [
    {
     "name": "stdout",
     "output_type": "stream",
     "text": [
      "tensor([[2.],\n",
      "        [1.],\n",
      "        [1.],\n",
      "        [0.]])\n"
     ]
    }
   ],
   "source": [
    "print(target)"
   ]
  },
  {
   "cell_type": "markdown",
   "id": "7634ef7e",
   "metadata": {},
   "source": [
    "## Normalize Input?"
   ]
  },
  {
   "cell_type": "code",
   "execution_count": 8,
   "id": "a17c4a66",
   "metadata": {},
   "outputs": [],
   "source": [
    "# Normalize Input?\n",
    "# Scale data to have mean 0 and variance 1"
   ]
  },
  {
   "cell_type": "code",
   "execution_count": 9,
   "id": "340f24aa",
   "metadata": {},
   "outputs": [],
   "source": [
    "class Net(nn.Module):\n",
    "    def __init__(self, D_in, H, D_out):\n",
    "        super(Net, self).__init__()\n",
    "        self.linear1 = nn.Linear(D_in, H)\n",
    "        self.linear2 = nn.Linear(H, D_out)\n",
    "\n",
    "    def forward(self, x):\n",
    "        x = torch.sigmoid(self.linear1(x))\n",
    "        x = self.linear2(x)\n",
    "        return x \n",
    "\n"
   ]
  },
  {
   "cell_type": "code",
   "execution_count": 10,
   "id": "50aeac1e",
   "metadata": {},
   "outputs": [
    {
     "data": {
      "text/plain": [
       "4"
      ]
     },
     "execution_count": 10,
     "metadata": {},
     "output_type": "execute_result"
    }
   ],
   "source": [
    "input_dim=4     # how many Variables are in the dataset\n",
    "hidden_dim = 25 # hidden layers\n",
    "output_dim=3    # number of classes\n",
    "input_dim "
   ]
  },
  {
   "cell_type": "code",
   "execution_count": 45,
   "id": "947f38f9",
   "metadata": {},
   "outputs": [],
   "source": [
    "# Instantiate model\n",
    "model=Net(input_dim,hidden_dim,output_dim)"
   ]
  },
  {
   "cell_type": "code",
   "execution_count": 46,
   "id": "2404a39a",
   "metadata": {},
   "outputs": [],
   "source": [
    "#print('W:',list(model.parameters())[0].size())\n",
    "#print('b',list(model.parameters())[1].size())"
   ]
  },
  {
   "cell_type": "markdown",
   "id": "381ca683",
   "metadata": {},
   "source": [
    "Loss Function\n"
   ]
  },
  {
   "cell_type": "code",
   "execution_count": 47,
   "id": "499b9a18",
   "metadata": {},
   "outputs": [],
   "source": [
    "criterion=nn.CrossEntropyLoss()"
   ]
  },
  {
   "cell_type": "markdown",
   "id": "c86138e4",
   "metadata": {},
   "source": [
    "Optimizer"
   ]
  },
  {
   "cell_type": "code",
   "execution_count": 50,
   "id": "3058b19c",
   "metadata": {},
   "outputs": [],
   "source": [
    "learning_rate=0.0001\n",
    "optimizer=torch.optim.SGD(model.parameters(), lr=learning_rate)"
   ]
  },
  {
   "cell_type": "code",
   "execution_count": 51,
   "id": "daa45fe3",
   "metadata": {},
   "outputs": [
    {
     "name": "stdout",
     "output_type": "stream",
     "text": [
      "epoch 0, loss: 0.716\n",
      "epoch 10, loss: 0.714\n",
      "epoch 20, loss: 0.712\n",
      "epoch 30, loss: 0.712\n",
      "epoch 40, loss: 0.710\n",
      "epoch 50, loss: 0.708\n",
      "epoch 60, loss: 0.706\n",
      "epoch 70, loss: 0.704\n",
      "epoch 80, loss: 0.703\n",
      "epoch 90, loss: 0.700\n",
      "epoch 100, loss: 0.699\n",
      "epoch 110, loss: 0.696\n",
      "epoch 120, loss: 0.695\n",
      "epoch 130, loss: 0.693\n",
      "epoch 140, loss: 0.691\n",
      "epoch 150, loss: 0.690\n",
      "epoch 160, loss: 0.688\n",
      "epoch 170, loss: 0.687\n",
      "epoch 180, loss: 0.685\n",
      "epoch 190, loss: 0.683\n",
      "epoch 200, loss: 0.681\n",
      "epoch 210, loss: 0.679\n",
      "epoch 220, loss: 0.677\n",
      "epoch 230, loss: 0.675\n",
      "epoch 240, loss: 0.671\n",
      "epoch 250, loss: 0.671\n",
      "epoch 260, loss: 0.669\n",
      "epoch 270, loss: 0.666\n",
      "epoch 280, loss: 0.665\n",
      "epoch 290, loss: 0.665\n",
      "epoch 300, loss: 0.663\n",
      "epoch 310, loss: 0.659\n",
      "epoch 320, loss: 0.658\n",
      "epoch 330, loss: 0.655\n",
      "epoch 340, loss: 0.652\n",
      "epoch 350, loss: 0.651\n",
      "epoch 360, loss: 0.652\n",
      "epoch 370, loss: 0.647\n",
      "epoch 380, loss: 0.646\n",
      "epoch 390, loss: 0.644\n",
      "epoch 400, loss: 0.643\n",
      "epoch 410, loss: 0.641\n",
      "epoch 420, loss: 0.638\n",
      "epoch 430, loss: 0.638\n",
      "epoch 440, loss: 0.636\n",
      "epoch 450, loss: 0.634\n",
      "epoch 460, loss: 0.632\n",
      "epoch 470, loss: 0.627\n",
      "epoch 480, loss: 0.627\n",
      "epoch 490, loss: 0.626\n",
      "epoch 500, loss: 0.624\n",
      "epoch 510, loss: 0.620\n",
      "epoch 520, loss: 0.620\n",
      "epoch 530, loss: 0.618\n",
      "epoch 540, loss: 0.615\n",
      "epoch 550, loss: 0.614\n",
      "epoch 560, loss: 0.612\n",
      "epoch 570, loss: 0.610\n",
      "epoch 580, loss: 0.609\n",
      "epoch 590, loss: 0.606\n",
      "epoch 600, loss: 0.603\n",
      "epoch 610, loss: 0.603\n",
      "epoch 620, loss: 0.601\n",
      "epoch 630, loss: 0.600\n",
      "epoch 640, loss: 0.597\n",
      "epoch 650, loss: 0.595\n",
      "epoch 660, loss: 0.591\n",
      "epoch 670, loss: 0.591\n",
      "epoch 680, loss: 0.657\n",
      "epoch 690, loss: 0.586\n",
      "epoch 700, loss: 0.586\n",
      "epoch 710, loss: 0.582\n",
      "epoch 720, loss: 0.581\n",
      "epoch 730, loss: 0.580\n",
      "epoch 740, loss: 0.577\n",
      "epoch 750, loss: 0.577\n",
      "epoch 760, loss: 0.574\n",
      "epoch 770, loss: 0.572\n",
      "epoch 780, loss: 0.568\n",
      "epoch 790, loss: 0.568\n",
      "epoch 800, loss: 0.565\n",
      "epoch 810, loss: 0.564\n",
      "epoch 820, loss: 0.563\n",
      "epoch 830, loss: 0.559\n",
      "epoch 840, loss: 0.560\n",
      "epoch 850, loss: 0.557\n",
      "epoch 860, loss: 0.556\n",
      "epoch 870, loss: 0.552\n",
      "epoch 880, loss: 0.550\n",
      "epoch 890, loss: 0.548\n",
      "epoch 900, loss: 0.547\n",
      "epoch 910, loss: 0.547\n",
      "epoch 920, loss: 0.547\n",
      "epoch 930, loss: 0.542\n",
      "epoch 940, loss: 0.541\n",
      "epoch 950, loss: 0.537\n",
      "epoch 960, loss: 0.537\n",
      "epoch 970, loss: 0.607\n",
      "epoch 980, loss: 0.534\n",
      "epoch 990, loss: 0.531\n"
     ]
    }
   ],
   "source": [
    "for epoch in range(n_epochs):\n",
    "    running_loss = 0.0 \n",
    "    for x, y in train_dataLoader:\n",
    "        # features, gt_target = data[0].to(device), data[1].to(device)\n",
    "        features, gt_target = x, y\n",
    "        # print(y)\n",
    "        optimizer.zero_grad()\n",
    "        \n",
    "        pred_target = model(features)\n",
    "        loss = criterion(pred_target, gt_target.view(-1).type(torch.LongTensor))\n",
    "        # loss = loss(z, gt_target.squeeze().view(-1))\n",
    "        loss.backward()\n",
    "\n",
    "        optimizer.step()\n",
    "\n",
    "        running_loss += loss.item()\n",
    "\n",
    "    cost = running_loss / len(train_dataLoader)\n",
    "    if epoch % 10 == 0:\n",
    "        print('epoch %d, loss: %.3f' %(epoch, cost))"
   ]
  },
  {
   "cell_type": "code",
   "execution_count": null,
   "id": "97a2049c",
   "metadata": {},
   "outputs": [],
   "source": []
  }
 ],
 "metadata": {
  "kernelspec": {
   "display_name": "Python 3",
   "language": "python",
   "name": "python3"
  },
  "language_info": {
   "codemirror_mode": {
    "name": "ipython",
    "version": 3
   },
   "file_extension": ".py",
   "mimetype": "text/x-python",
   "name": "python",
   "nbconvert_exporter": "python",
   "pygments_lexer": "ipython3",
   "version": "3.9.0"
  }
 },
 "nbformat": 4,
 "nbformat_minor": 5
}
